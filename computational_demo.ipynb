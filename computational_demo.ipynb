{
 "cells": [
  {
   "cell_type": "markdown",
   "id": "f507fe3a",
   "metadata": {
    "slideshow": {
     "slide_type": "slide"
    }
   },
   "source": [
    "# 1. Overview of computational software environments\n",
    "\n",
    "| Environment | Since | PYPL [%] |\n",
    "|-------------|-------|----------|\n",
    "| FORTRAN     | 1957  | --.--    |\n",
    "| Matlab      | ~1970 | 1.73     |\n",
    "| C++         | 1985  | 6.82     |\n",
    "| Python      | 1991  | 30.21    |\n",
    "| R           | 1993  | 3.81     |\n",
    "| Julia       | 2012  | 0.36     |\n",
    "\n",
    "- See [PopularitY of Programming Language (PYPL)](https://pypl.github.io/PYPL.html) (data Dec 5, 2021)\n",
    "- Not specific for computational science & engineering"
   ]
  },
  {
   "cell_type": "markdown",
   "id": "fb1ed211",
   "metadata": {
    "slideshow": {
     "slide_type": "slide"
    }
   },
   "source": [
    "### Questionaire in Physics and Astronomy (2019)\n",
    "\n",
    "<img src=\"importance_sub_prog.png\" width=900 />"
   ]
  },
  {
   "cell_type": "markdown",
   "id": "f4d24778",
   "metadata": {
    "slideshow": {
     "slide_type": "slide"
    }
   },
   "source": [
    "### Compiled languages (FORTRAN, C++, C, ...)\n",
    "\n",
    "- **Efficient** computation\n",
    "\n",
    "### Interpreted languages (Python, Matlab, R, ...)\n",
    "\n",
    "- **Rapid** development: write code and execute\n",
    "- **Slower execution**, yet easily circumvented\n",
    "- Cross-platform"
   ]
  },
  {
   "cell_type": "markdown",
   "id": "02462328",
   "metadata": {
    "slideshow": {
     "slide_type": "slide"
    }
   },
   "source": [
    "### Why is Python popular?\n",
    "\n",
    "1. **Easy** to learn\n",
    "1. **Open source** (free): transparency and reproducibility\n",
    "1. Many **libraries** (e.g. computational sciences)\n",
    "1. **Mature** en general purpose\n",
    "\n",
    "### Why is Matlab popular?\n",
    "\n",
    "1. **Early** in the game (1970)\n",
    "1. **Legacy** software that only works with Matlab\n",
    "1. **Specialized** toolboxes\n",
    "1. **Mature**"
   ]
  },
  {
   "cell_type": "markdown",
   "id": "cce60b51",
   "metadata": {
    "slideshow": {
     "slide_type": "slide"
    }
   },
   "source": [
    "# 2. Python for Matlab users\n",
    "\n",
    "**Goal:** mini comparison between the two. You can claim some Python experience in a job interview.\n",
    "\n",
    "- Somewhat inspired by [A Python primer for Matlab users](https://bastibe.de/2013-01-20-a-python-primer-for-matlab-users.html)\n",
    "- See also [NumPy for MATLAB users](https://numpy.org/devdocs/user/numpy-for-matlab-users.html)\n",
    "\n",
    "**Run this notebook in your browser:**\n",
    "\n",
    "- Go to the README: https://github.com/molmod/elmase-computational-demo and click on the Binder badge."
   ]
  },
  {
   "cell_type": "markdown",
   "id": "464c57be-7fb5-417e-9f43-23bae88a15a7",
   "metadata": {
    "slideshow": {
     "slide_type": "slide"
    },
    "tags": []
   },
   "source": [
    "### Data types\n",
    "\n",
    "```octave\n",
    "% Matlab has flexible types.\n",
    "a = 'text';\n",
    "b = a + 5  % b =  [121 106 125 121]\n",
    "```"
   ]
  },
  {
   "cell_type": "code",
   "execution_count": null,
   "id": "d00940d5-26c3-4a4e-9bf1-60d63211ccdd",
   "metadata": {},
   "outputs": [],
   "source": [
    "# Python has dynamics strong types.\n",
    "a = 'text'\n",
    "b = a + 5\n",
    "print(b)"
   ]
  },
  {
   "cell_type": "markdown",
   "id": "037134ae-318a-48d7-b01d-f47efa485a4d",
   "metadata": {
    "slideshow": {
     "slide_type": "slide"
    },
    "tags": []
   },
   "source": [
    "### No semicolons `;` in Python\n",
    "\n",
    "```octave\n",
    "% In Matlab, use semicolons to avoid unwanted output.\n",
    "a = 1.0;\n",
    "b = 3.0;\n",
    "c = a + b  % c =  4\n",
    "```"
   ]
  },
  {
   "cell_type": "code",
   "execution_count": null,
   "id": "e9886eea-8cc2-46f3-aa19-df16379d3f2a",
   "metadata": {},
   "outputs": [],
   "source": [
    "# Use print to print something in Python.\n",
    "a = 1.0\n",
    "b = 3.0\n",
    "c = a + b\n",
    "print(c)"
   ]
  },
  {
   "cell_type": "markdown",
   "id": "1dab2ed6-7055-405a-bba4-04df1bcf051f",
   "metadata": {
    "slideshow": {
     "slide_type": "slide"
    },
    "tags": []
   },
   "source": [
    "### Loops are very different\n",
    "\n",
    "- No `end` statement, indentation (4 spaces) instead.\n",
    "- `in` syntax.\n",
    "- Colon `:` at the end of the `for` line.\n",
    "- Counting by default from zero, end not included.\n",
    "- Not limited to integer sequences.\n",
    "\n",
    "\n",
    "```octave\n",
    "total = 0;\n",
    "for i = 0:9\n",
    "    total = total + i;\n",
    "end\n",
    "total  % total =  45\n",
    "```"
   ]
  },
  {
   "cell_type": "code",
   "execution_count": null,
   "id": "b4ceebb5-32dd-41ca-90a9-873fe7d08019",
   "metadata": {},
   "outputs": [],
   "source": [
    "total = 0\n",
    "for i in range(10):\n",
    "    total += i\n",
    "print(total)"
   ]
  },
  {
   "cell_type": "code",
   "execution_count": null,
   "id": "5a5147cd-abd6-4e37-85f6-6b5c24b60909",
   "metadata": {},
   "outputs": [],
   "source": [
    "for word in \"orange\", \"apple\":\n",
    "    print(word)"
   ]
  },
  {
   "cell_type": "markdown",
   "id": "20a02aa7-93c9-43e4-8f8e-fbc8a376e3d0",
   "metadata": {
    "slideshow": {
     "slide_type": "slide"
    },
    "tags": []
   },
   "source": [
    "### No built-in arrays in Python\n",
    "\n",
    "- More flexible *lists* are built-in.\n",
    "- Array support through [NumPy](https://numpy.org/)\n",
    "\n",
    "```octave\n",
    "% A Matlab array (row vector)\n",
    "a = [1 2 3 4]\n",
    "```"
   ]
  },
  {
   "cell_type": "code",
   "execution_count": null,
   "id": "c06c0fc1-4d63-4a85-8d63-4fec33519592",
   "metadata": {},
   "outputs": [],
   "source": [
    "# A Python list\n",
    "a = [1, 2, 3, 4]\n",
    "print(a)"
   ]
  },
  {
   "cell_type": "code",
   "execution_count": null,
   "id": "cccfdc45-3c1e-4512-b983-645ffc00bbc0",
   "metadata": {},
   "outputs": [],
   "source": [
    "# Lists can contain mixed types.\n",
    "b = [\"word\", 2.1, 10, [\"nested\", \"list\"]]\n",
    "# Lists can change length.\n",
    "b.append(\"new item\")\n",
    "print(b)\n",
    "# del b[0]\n",
    "# print(b)"
   ]
  },
  {
   "cell_type": "code",
   "execution_count": null,
   "id": "2347400c-e08a-4d40-82d4-0e0312557812",
   "metadata": {},
   "outputs": [],
   "source": [
    "# An array can be created with NumPy.\n",
    "import numpy as np\n",
    "a = np.array([1, 2, 3, 4])\n",
    "print(a)"
   ]
  },
  {
   "cell_type": "code",
   "execution_count": null,
   "id": "8bb60dbe-2749-498c-80f7-7daadf09942d",
   "metadata": {},
   "outputs": [],
   "source": [
    "# Short cut for an array with increasing integers\n",
    "print(np.arange(4))"
   ]
  },
  {
   "cell_type": "markdown",
   "id": "cc8411bd-7086-48c1-92b7-f48f13704d8e",
   "metadata": {
    "slideshow": {
     "slide_type": "slide"
    },
    "tags": []
   },
   "source": [
    "### Indexing arrays (lists, ...) is different\n",
    "\n",
    "- Square brackets for indexing.\n",
    "- Counting starts from zero.\n",
    "\n",
    "```octave\n",
    "% Access the first element in Matlab\n",
    "a = [1 2 3 4];\n",
    "a(1)  % ans =  1\n",
    "```"
   ]
  },
  {
   "cell_type": "code",
   "execution_count": null,
   "id": "399a9437-5cda-4330-a2c7-a7b624ea546d",
   "metadata": {},
   "outputs": [],
   "source": [
    "# Access the first element in Python\n",
    "a = np.array([1, 2, 3, 4])\n",
    "print(a[0])"
   ]
  },
  {
   "cell_type": "markdown",
   "id": "c1a9d297",
   "metadata": {
    "slideshow": {
     "slide_type": "slide"
    }
   },
   "source": [
    "### Functions have a different syntax\n",
    "\n",
    "- Again, no `end` in Python\n",
    "- A colon on each line before indentation.\n",
    "- `return` statement to return a value.\n",
    "\n",
    "```octave\n",
    "% Matlab\n",
    "function [out] = absolute(number)\n",
    "    if number > 0\n",
    "        out = number\n",
    "    else\n",
    "        out = -number\n",
    "    end\n",
    "end\n",
    "```"
   ]
  },
  {
   "cell_type": "code",
   "execution_count": null,
   "id": "70c98150",
   "metadata": {},
   "outputs": [],
   "source": [
    "# Python\n",
    "def absolute(number):\n",
    "    if number > 0:\n",
    "        return number\n",
    "    else:\n",
    "        return -number\n",
    "\n",
    "absolute(-5)"
   ]
  },
  {
   "cell_type": "markdown",
   "id": "2c5742e0-5b78-4acb-ad3c-cc4fe32874fb",
   "metadata": {
    "slideshow": {
     "slide_type": "slide"
    },
    "tags": []
   },
   "source": [
    "### In many ways, Python is more flexible.\n",
    "\n",
    "Example: `dict` and `set` types"
   ]
  },
  {
   "cell_type": "code",
   "execution_count": null,
   "id": "33ab7c2c-879b-4346-96a9-6f4b12713591",
   "metadata": {},
   "outputs": [],
   "source": [
    "# dict (dictionary) example\n",
    "d = {\"apple\": 1, \"egg\": 20, 120: \"bacon\"}\n",
    "print(d[\"egg\"])\n",
    "# d[\"orange\"] = 5\n",
    "# d[5] = \"orange\"\n",
    "# print(d)"
   ]
  },
  {
   "cell_type": "code",
   "execution_count": null,
   "id": "e05177e8-e446-43c6-b99f-ffc65d9d6bf9",
   "metadata": {},
   "outputs": [],
   "source": [
    "# set example\n",
    "s1 = {4, 5, \"eagle\", 1}\n",
    "s2 = {1, 2, \"eagle\", 7}\n",
    "print(\"union\", s1 | s2)\n",
    "print(\"intersection\", s1 & s2)"
   ]
  },
  {
   "cell_type": "markdown",
   "id": "13029bbf-75e4-4197-a6c4-e03fff5efb5d",
   "metadata": {
    "slideshow": {
     "slide_type": "slide"
    }
   },
   "source": [
    "### Computational libraries are not built-in to Python\n",
    "\n",
    "A few popular open source tools for computational science in Python:\n",
    "\n",
    "- Arrays and numerical algorithms: [NumPy](https://numpy.org/)\n",
    "- More numerical algorithms: [SciPy](https://scipy.org/)\n",
    "- Plotting: [Matplotlib](https://matplotlib.org/) and others, such as [Bokeh](https://bokeh.org/), [Plotly](https://plotly.com/python/), [Seaborn](https://seaborn.pydata.org/), ...\n",
    "- Symbolic math: [SymPy](https://www.sympy.org/)\n",
    "- Basic machine learning: [scikit-learn](https://scikit-learn.org/stable/index.html)\n",
    "- More machine learning: [Tensorflow](https://www.tensorflow.org/), [Kerras](https://keras.io/), [PyTorch](https://pytorch.org/), [xgboost](https://xgboost.ai/), [Jax](https://jax.readthedocs.io/) ...\n",
    "- Data science: [Pandas](https://pandas.pydata.org/), the built-in [SQLite](https://docs.python.org/3/library/sqlite3.html), many others ...\n",
    "- Image manipulation: [Pillow](https://python-pillow.org/), [scikit-image](https://scikit-image.org/)\n",
    "- Graph algorithms: [NetworkX](https://networkx.org/)\n",
    "- Finite elements: [SfePy](https://sfepy.org/)\n",
    "- Multi (arbitrary) precision: [MPMath](https://mpmath.org/)\n",
    "- Units: [Pint](https://pint.readthedocs.io/)\n",
    "- Many discipline specific tools, e.g. for Quantum computing: [CirQ](https://github.com/quantumlib/Cirq), Molecular Dynamics [OpenMM](https://openmm.org/), Computational Molecular Biology [BioPython](https://biopython.org/), Affine invariant Monte Carlo [emcee](https://emcee.readthedocs.io), Geo sciences [Spatial analysis](https://github.com/pysal/pysal), Astronomy [AtroPy](https://www.astropy.org/) ...\n",
    "- Notebooks: [Jupyter](https://jupyter.org/), also try [Google Colab](https://colab.research.google.com/) (free GPU access)\n",
    "- Unit testing: [Pytest](https://docs.pytest.org/)\n",
    "- Cleaning and checking code: [Black](https://black.readthedocs.io/) and [Pylint](https://pylint.org/)\n",
    "- ...\n",
    "\n",
    "Repository with most Python packages: https://pypi.org/ (> 300000 packages)"
   ]
  },
  {
   "cell_type": "markdown",
   "id": "00745570-be86-4d8b-9f0e-0ccd41106271",
   "metadata": {
    "slideshow": {
     "slide_type": "slide"
    },
    "tags": []
   },
   "source": [
    "# 3. Numerical integration of Newton's second law\n",
    "\n",
    "- Here: one-dimensional particle.\n",
    "\n",
    "  State-of-the-art simulations: $10^3 \\ldots 10^9$ 3D particles.\n",
    "\n",
    "- Here: few 100 discrete time steps.\n",
    "\n",
    "  State-of-the-art simulations: $10^6 \\ldots 10^{12}$ steps\n",
    "\n",
    "See e.g. https://ucsdnews.ucsd.edu/pressrelease/covid-gets-airborne\n",
    "\n",
    "![sars-cov2 viron](https://ucsdnews.ucsd.edu/news_uploads/11192020-amaro-molecule.jpg)"
   ]
  },
  {
   "cell_type": "markdown",
   "id": "6571f448-baab-4740-b19a-acf68af85b22",
   "metadata": {
    "slideshow": {
     "slide_type": "slide"
    },
    "tags": []
   },
   "source": [
    "### Discretization time axis\n",
    "\n",
    "<img src=\"discretization_time_axis.png\" width=\"800\" />"
   ]
  },
  {
   "cell_type": "markdown",
   "id": "6af70b6e-fc19-46e4-96ae-7c3d0d894ef4",
   "metadata": {
    "slideshow": {
     "slide_type": "slide"
    },
    "tags": []
   },
   "source": [
    "### Euler integration\n",
    "\n",
    "**Given:** state at time step $i$: $y_i$ and $v_{y,i}$\n",
    "\n",
    "**Result:** state at time step $i+1$: $y_{i+1}$ and $v_{y,i+1}$\n",
    "\n",
    "\\begin{align}\n",
    "    y_{i+1} &\\approx y_i + h \\frac{\\mathrm{d}{y_i}}{\\mathrm{d}{t}} + \\mathcal{O}(h^2) \\\\\n",
    "            &\\approx y_i + h v_{y,i} + \\mathcal{O}(h^2) \\\\\n",
    "    v_{y,i+1} &\\approx v_{y,i} + h \\frac{\\mathrm{d}{v_{y,i}}}{\\mathrm{d}{t}} + \\mathcal{O}(h^2) \\\\\n",
    "              &\\approx v_{y,i} + h \\frac{F_y(y_i)}{m} + \\mathcal{O}(h^2)\n",
    "\\end{align}"
   ]
  },
  {
   "cell_type": "markdown",
   "id": "377abea3-05f7-4e94-ad94-5371c9be42cf",
   "metadata": {
    "slideshow": {
     "slide_type": "slide"
    },
    "tags": []
   },
   "source": [
    "### [Leapfrog](https://en.wikipedia.org/wiki/Leapfrog_integration) integration (specific for Newton's second law)\n",
    "\n",
    "**Given:** state at time step $i$: $y_i$ and $v_{y,i}$\n",
    "\n",
    "**Result:** state at time step $i+1$: $y_{i+1}$ and $v_{y,i+1}$\n",
    "\n",
    "\\begin{align}\n",
    "    v_{y,i+1/2} &\\approx v_{y,i} + \\frac{h}{2} \\frac{F_y(y_i)}{m} + \\mathcal{O}(h^2) \\\\\n",
    "    y_{i+1} &\\approx y_i + hv_{y,i+1/2} + \\mathcal{O}(h^3) \\\\\n",
    "    v_{y,i+1} &\\approx v_{y,i+1/2} + \\frac{h}{2} \\frac{F_y(y_{i+1})}{m} + \\mathcal{O}(h^2)\n",
    "\\end{align}"
   ]
  },
  {
   "cell_type": "markdown",
   "id": "1a969bdf-fcd6-4b1e-8333-990e61a8620d",
   "metadata": {
    "slideshow": {
     "slide_type": "slide"
    }
   },
   "source": [
    "# 4. Demo\n",
    "\n",
    "Numerical integration of the falling ball in Task 1."
   ]
  },
  {
   "cell_type": "code",
   "execution_count": null,
   "id": "9ee231fb-36a0-4fe9-a1de-f4cd52def83d",
   "metadata": {},
   "outputs": [],
   "source": [
    "# Configure notebook to show interactive plots.\n",
    "%matplotlib widget\n",
    "\n",
    "# Make sure you import libraries first.\n",
    "import numpy as np\n",
    "import matplotlib.pyplot as plt"
   ]
  },
  {
   "cell_type": "code",
   "execution_count": null,
   "id": "a2a82a4b-e28a-4742-999e-33582f0a1e0e",
   "metadata": {
    "slideshow": {
     "slide_type": "slide"
    }
   },
   "outputs": [],
   "source": [
    "# All values are in SI base units.\n",
    "STD_GRAVITY = 9.80665\n",
    "COULOMB_CONSTANT = 8.9875517923e9\n",
    "CHARGE1 = 2.13e-07\n",
    "CHARGE2 = 2.17e-07\n",
    "MASS = 7.61e-04\n",
    "HEIGHT0 = 1.0\n",
    "TIMESTEP = 0.01"
   ]
  },
  {
   "cell_type": "code",
   "execution_count": null,
   "id": "09939be9",
   "metadata": {
    "slideshow": {
     "slide_type": "slide"
    }
   },
   "outputs": [],
   "source": [
    "def force_y(y):\n",
    "    return -MASS * STD_GRAVITY\n",
    "\n",
    "def integrate(nstep, y0, vy0):\n",
    "    # Initialize variables\n",
    "    y = y0\n",
    "    vy = vy0\n",
    "    ys = np.zeros(nstep)\n",
    "    vys = np.zeros(nstep)\n",
    "    \n",
    "    ay = force_y(y) / MASS\n",
    "    for istep in range(nstep):\n",
    "        # Leapfrog algorithm for a\n",
    "        # single step.\n",
    "        vy_half = vy + TIMESTEP * ay / 2\n",
    "        y_next = y + TIMESTEP * vy_half\n",
    "        ay_next = force_y(y_next) / MASS\n",
    "        vy_next = vy_half + TIMESTEP * ay_next / 2\n",
    "        \n",
    "        # Store results.\n",
    "        ys[istep] = y_next\n",
    "        vys[istep] = vy_next\n",
    "        \n",
    "        # Move \"next\" results to current.\n",
    "        y = y_next\n",
    "        vy = vy_next\n",
    "        ay = ay_next\n",
    "        \n",
    "    # Return the arrays.\n",
    "    return ys, vys\n",
    "\n",
    "ys, vys = integrate(100, HEIGHT0, 0.0)"
   ]
  },
  {
   "cell_type": "code",
   "execution_count": null,
   "id": "83258c08-6348-4953-91ae-cb8b82842422",
   "metadata": {
    "slideshow": {
     "slide_type": "slide"
    }
   },
   "outputs": [],
   "source": [
    "# Plot of position, velocity and energies as a function of time.\n",
    "\n",
    "def potential_energy(y):\n",
    "    return MASS * STD_GRAVITY * y\n",
    "\n",
    "def kinetic_energy(vy):\n",
    "    return (0.5 * MASS) * vy**2\n",
    "\n",
    "def plot_all(ys, vys):\n",
    "    ts = np.arange(len(ys)) * TIMESTEP\n",
    "\n",
    "    def plot_y(ax):\n",
    "        ax.plot(ts, ys)\n",
    "        ax.set_xlabel(\"time $t$ [s]\")\n",
    "        ax.set_ylabel(\"height $y$ [m]\")\n",
    "    \n",
    "    def plot_vel_y(ax):\n",
    "        ax.plot(ts, vys)\n",
    "        ax.set_xlabel(\"time $t$ [s]\")\n",
    "        ax.set_ylabel(\"velocity $v_y$ [m/s]\")\n",
    "    \n",
    "    def plot_energy(ax):\n",
    "        eks = kinetic_energy(vys)\n",
    "        eps = potential_energy(ys)\n",
    "        ax.plot(ts, eks, label=\"kin. E\")\n",
    "        ax.plot(ts, eps, label=\"pot. E\")\n",
    "        ax.plot(ts, eks + eps, label=\"total E\", color=\"k\")\n",
    "        ax.legend(loc=0)\n",
    "        ax.set_xlabel(\"time $t$ [s]\")\n",
    "        ax.set_ylabel(\"energy [J]\")\n",
    "    \n",
    "    plt.close(\"posvelener\")\n",
    "    fig, axs = plt.subplots(\n",
    "        1, 3, figsize=(9, 3),\n",
    "        num=\"posvelener\"\n",
    "    )    \n",
    "    plot_y(axs[0])\n",
    "    plot_vel_y(axs[1])\n",
    "    plot_energy(axs[2])\n",
    "    fig.tight_layout()\n",
    "\n",
    "    \n",
    "plot_all(ys, vys)"
   ]
  },
  {
   "cell_type": "code",
   "execution_count": null,
   "id": "e184b8d2-e28f-4a1b-aade-a2ada246e352",
   "metadata": {
    "slideshow": {
     "slide_type": "slide"
    }
   },
   "outputs": [],
   "source": [
    "# Plot velocity versus position\n",
    "\n",
    "def plot_velvpos():\n",
    "    plt.close(\"velvpos\")\n",
    "    fig, ax = plt.subplots(\n",
    "        figsize=(8, 4), num=\"velvpos\"\n",
    "    )\n",
    "    ax.plot(vys, ys)\n",
    "    ax.set_xlabel(\"velocity $v_y$ [m/s]\")\n",
    "    ax.set_ylabel(\"height $y$ [m]\")\n",
    "    ax.set_xlim(-3.5, 3.5)\n",
    "    ax.set_ylim(0.02, 1.05)\n",
    "    fig.tight_layout()\n",
    "\n",
    "plot_velvpos()"
   ]
  },
  {
   "cell_type": "code",
   "execution_count": null,
   "id": "76d4d9c5-6e90-49b4-b37b-a0744b5c4589",
   "metadata": {
    "slideshow": {
     "slide_type": "slide"
    }
   },
   "outputs": [],
   "source": [
    "# Make contour plot of energy as a function of y and vel_y.\n",
    "\n",
    "def plot_contour():\n",
    "    vy_grid, y_grid = np.meshgrid(\n",
    "        np.linspace(-3.5, 3.5, 51),\n",
    "        np.linspace(0.02, 1, 51),\n",
    "    )\n",
    "    energy_grid = (\n",
    "        kinetic_energy(vy_grid) + \n",
    "        potential_energy(y_grid)\n",
    "    )\n",
    "    plt.close(\"contour\")\n",
    "    fig, ax = plt.subplots(\n",
    "        figsize=(8, 4), num=\"contour\"\n",
    "    )\n",
    "    plt.contour(vy_grid, y_grid, energy_grid, 40)\n",
    "    ax.set_xlabel(\"velocity $v_y$ [m/s]\")\n",
    "    ax.set_ylabel(\"height $y$ [m]\")\n",
    "    fig.tight_layout()\n",
    "\n",
    "plot_contour()"
   ]
  },
  {
   "cell_type": "markdown",
   "id": "687abd62-f80b-4b28-881d-7e1c9431a677",
   "metadata": {
    "slideshow": {
     "slide_type": "slide"
    }
   },
   "source": [
    "# 5. Hands-on\n",
    "\n",
    "**Implement Euler's method**\n",
    "\n",
    "- Comment out the Leapfrog integration. Don't remove it because you need to restore it for the following objectives.\n",
    "- How is energy conservation affected?\n",
    "\n",
    "**Small modification of the demo:** introduce a friction force. \n",
    "\n",
    "- What do you expect for the trajectory in the ($y, v_y$) plane, when there is some friction?\n",
    "- Modify the force function and the integrator to account for friction.\n",
    "  (Do not write an implicit integrator. While that would be appropriate, a crude explicit version is good enough.)\n",
    "- Remove the friction before moving on to the next part.\n",
    "\n",
    "**Application to question 2.5:** charged particle moving through a charged ring.\n",
    "\n",
    "- Introduce numerical parameters in SI-base units. (Use UPPER CASE for constants.)\n",
    "- Modify the force and potential energy expressions to match those of the assignment.\n",
    "- Test your solutions for subquestions (b) and (d) "
   ]
  }
 ],
 "metadata": {
  "celltoolbar": "Slideshow",
  "kernelspec": {
   "display_name": "Python 3 (ipykernel)",
   "language": "python",
   "name": "python3"
  },
  "language_info": {
   "codemirror_mode": {
    "name": "ipython",
    "version": 3
   },
   "file_extension": ".py",
   "mimetype": "text/x-python",
   "name": "python",
   "nbconvert_exporter": "python",
   "pygments_lexer": "ipython3",
   "version": "3.9.7"
  },
  "toc": {
   "base_numbering": 1,
   "nav_menu": {},
   "number_sections": true,
   "sideBar": true,
   "skip_h1_title": false,
   "title_cell": "Table of Contents",
   "title_sidebar": "Contents",
   "toc_cell": false,
   "toc_position": {},
   "toc_section_display": true,
   "toc_window_display": false
  }
 },
 "nbformat": 4,
 "nbformat_minor": 5
}
